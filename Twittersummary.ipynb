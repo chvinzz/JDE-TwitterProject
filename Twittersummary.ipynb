{
  "nbformat": 4,
  "nbformat_minor": 0,
  "metadata": {
    "colab": {
      "name": "Twitter.ipynb",
      "provenance": [],
      "collapsed_sections": [],
      "authorship_tag": "ABX9TyOrmJBmJCBap5Y9m/Yr36m7",
      "include_colab_link": true
    },
    "kernelspec": {
      "name": "python3",
      "display_name": "Python 3"
    },
    "language_info": {
      "name": "python"
    }
  },
  "cells": [
    {
      "cell_type": "markdown",
      "metadata": {
        "id": "view-in-github",
        "colab_type": "text"
      },
      "source": [
        "<a href=\"https://colab.research.google.com/github/chvinzz/TwitterProject/blob/master/Twittersummary.ipynb\" target=\"_parent\"><img src=\"https://colab.research.google.com/assets/colab-badge.svg\" alt=\"Open In Colab\"/></a>"
      ]
    },
    {
      "cell_type": "markdown",
      "metadata": {
        "id": "8lyvCi0PQLxW"
      },
      "source": [
        "**Group project**\n",
        "\n",
        "Team 4\n",
        "\n",
        "Team Members: Ian Johnson Vincy\n",
        "\n",
        "\n"
      ]
    },
    {
      "cell_type": "markdown",
      "metadata": {
        "id": "TZ6_FwadYcm5"
      },
      "source": [
        "**Introduction**\n",
        "\n",
        "1. How to connect to Twitter with Python & Joe Biden's Tiwtter profile\n",
        "\n",
        "2. How to collect user social network info from Twitter user(Maybe his other social network account)\n",
        "\n",
        "3. How to retrieve dat from Biden's Twitter profile\n",
        "\n",
        "4. Fullfill  ： then filter Biden and Covid-19 data \n",
        "\n",
        "5. Fullfill  ： retrieve them \n",
        "\n",
        "6. Data filter all about Coronavirus &Vaccination terms(e.g covid-19, covid19...) \n",
        "\n",
        "7. Database Design"
      ]
    },
    {
      "cell_type": "markdown",
      "metadata": {
        "id": "AG3mQjV4QXqc"
      },
      "source": [
        "**Tools**\n",
        "\n",
        "1. Tweepy \n",
        "2. Pandas\n",
        "3. Numpy\n",
        "4. Sqlite3"
      ]
    },
    {
      "cell_type": "markdown",
      "metadata": {
        "id": "ZucRCKxjc5RY"
      },
      "source": [
        "**Get the Twitter API use Tweepy**"
      ]
    },
    {
      "cell_type": "code",
      "metadata": {
        "id": "sORVetycUESY"
      },
      "source": [
        "import tweepy\n",
        "\n",
        "consumer_key = 'SNDhT4ZYKnM398eNo98HczpIC'    # my twitter API key & serect\n",
        "consumer_serect = 'uEozE1tc7Fvlz5JbMWC4Ap8CkVvi3G9Vw9syu0rwsNfaNE8YkD'\n",
        "access_token = '1447428831950688261-5LPYCfyhKdNW46Lc0JRIbIeTTw9KmA'\n",
        "access_token_secret = 'mWyzY7sId3zRmKdXMUTduLyRgbG6SH2AXzV2SzxZ9hOmc'\n",
        "\n",
        "\n",
        "auth = tweepy.OAuthHandler(consumer_key, consumer_serect)   #authentication\n",
        "auth.set_access_token (access_token , access_token_secret)\n",
        "\n",
        "api = tweepy.API(auth)\n",
        "name = '@JoeBiden'\n",
        "tweetCount =100   # return the 100 status(can change)\n",
        "results = api.user_timeline(id=name, count=tweetCount)\n",
        "for tweet in results:\n",
        "    print(tweet)\n"
      ],
      "execution_count": null,
      "outputs": []
    },
    {
      "cell_type": "markdown",
      "metadata": {
        "id": "n8zVaWXLUNqP"
      },
      "source": [
        "**Database Design**\n",
        "\n",
        "1. API data format (Json)\n",
        "2. design the data according to the data format\n",
        "3. use sqlite"
      ]
    },
    {
      "cell_type": "markdown",
      "metadata": {
        "id": "2mCh8RJjf21i"
      },
      "source": [
        "**Timeline**\n",
        "\n",
        "1. summary of open-source libraries comparison linked to project\n",
        "2. list of ideas generated, consisting of conceptual sketches, function and key components\n",
        "3. document about the database schema, table structure, and entity-relationship model\n",
        "4. The source code of your crawler to finish this task\n",
        "5. user guide about how to use crawler\n",
        "6. Twitter data crawler prototype\n",
        "7. Presentation deck\n",
        "\n",
        "\n"
      ]
    }
  ]
}